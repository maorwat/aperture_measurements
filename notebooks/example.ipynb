{
 "cells": [
  {
   "cell_type": "code",
   "execution_count": 2,
   "id": "4f0d71a7",
   "metadata": {
    "execution": {
     "iopub.execute_input": "2025-02-28T15:57:12.449272Z",
     "iopub.status.busy": "2025-02-28T15:57:12.448945Z",
     "iopub.status.idle": "2025-02-28T15:57:12.453856Z",
     "shell.execute_reply": "2025-02-28T15:57:12.453149Z",
     "shell.execute_reply.started": "2025-02-28T15:57:12.449251Z"
    }
   },
   "outputs": [],
   "source": [
    "from pathlib import Path\n",
    "import sys\n",
    "\n",
    "home_path = str(Path.cwd().parent)\n",
    "sys.path.append(home_path)"
   ]
  },
  {
   "cell_type": "code",
   "execution_count": 3,
   "id": "adddff48",
   "metadata": {
    "execution": {
     "iopub.execute_input": "2025-02-28T15:57:13.049295Z",
     "iopub.status.busy": "2025-02-28T15:57:13.048960Z",
     "iopub.status.idle": "2025-02-28T15:57:16.590937Z",
     "shell.execute_reply": "2025-02-28T15:57:16.590010Z",
     "shell.execute_reply.started": "2025-02-28T15:57:13.049273Z"
    }
   },
   "outputs": [],
   "source": [
    "from aper_package.interactive_tool import InteractiveTool"
   ]
  },
  {
   "cell_type": "code",
   "execution_count": 4,
   "id": "d1058374",
   "metadata": {
    "execution": {
     "iopub.execute_input": "2025-02-28T15:58:10.795260Z",
     "iopub.status.busy": "2025-02-28T15:58:10.794524Z",
     "iopub.status.idle": "2025-02-28T15:58:20.943499Z",
     "shell.execute_reply": "2025-02-28T15:58:20.942677Z",
     "shell.execute_reply.started": "2025-02-28T15:58:10.795221Z"
    }
   },
   "outputs": [],
   "source": [
    "tool = InteractiveTool(spark=spark)"
   ]
  },
  {
   "cell_type": "code",
   "execution_count": 5,
   "id": "95629e71",
   "metadata": {
    "execution": {
     "iopub.execute_input": "2025-02-28T15:58:20.945394Z",
     "iopub.status.busy": "2025-02-28T15:58:20.945029Z",
     "iopub.status.idle": "2025-02-28T15:58:21.511297Z",
     "shell.execute_reply": "2025-02-28T15:58:21.510562Z",
     "shell.execute_reply.started": "2025-02-28T15:58:20.945361Z"
    }
   },
   "outputs": [
    {
     "data": {
      "application/vnd.jupyter.widget-view+json": {
       "model_id": "6feef2d8aae04facacdf8c5a7ee673a6",
       "version_major": 2,
       "version_minor": 0
      },
      "text/plain": [
       "VBox(children=(Tab(children=(VBox(children=(HTML(value='<h4>Select and load files</h4>'), VBox(children=(HBox(…"
      ]
     },
     "metadata": {},
     "output_type": "display_data"
    }
   ],
   "source": [
    "tool.show()"
   ]
  },
  {
   "cell_type": "code",
   "execution_count": null,
   "id": "e4aaecbb-314d-4186-a0b1-de91549dc08b",
   "metadata": {},
   "outputs": [],
   "source": []
  }
 ],
 "metadata": {
  "@webio": {
   "lastCommId": null,
   "lastKernelId": null
  },
  "kernelspec": {
   "display_name": "Python 3",
   "language": "python",
   "name": "python3"
  },
  "language_info": {
   "codemirror_mode": {
    "name": "ipython",
    "version": 3
   },
   "file_extension": ".py",
   "mimetype": "text/x-python",
   "name": "python",
   "nbconvert_exporter": "python",
   "pygments_lexer": "ipython3",
   "version": "3.11.9"
  },
  "sparkconnect": {
   "bundled_options": [
    "NXCALS",
    "SparkMetrics"
   ],
   "list_of_options": []
  }
 },
 "nbformat": 4,
 "nbformat_minor": 5
}
