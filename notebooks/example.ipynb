{
 "cells": [
  {
   "cell_type": "code",
   "execution_count": 1,
   "id": "4f0d71a7",
   "metadata": {
    "execution": {
     "iopub.execute_input": "2025-02-19T09:21:52.200643Z",
     "iopub.status.busy": "2025-02-19T09:21:52.199634Z",
     "iopub.status.idle": "2025-02-19T09:21:52.207741Z",
     "shell.execute_reply": "2025-02-19T09:21:52.206977Z",
     "shell.execute_reply.started": "2025-02-19T09:21:52.200609Z"
    }
   },
   "outputs": [],
   "source": [
    "from pathlib import Path\n",
    "import sys\n",
    "\n",
    "home_path = str(Path.cwd().parent)\n",
    "sys.path.append(home_path)"
   ]
  },
  {
   "cell_type": "code",
   "execution_count": 2,
   "id": "adddff48",
   "metadata": {
    "execution": {
     "iopub.execute_input": "2025-02-19T09:21:52.882366Z",
     "iopub.status.busy": "2025-02-19T09:21:52.881445Z",
     "iopub.status.idle": "2025-02-19T09:21:57.069322Z",
     "shell.execute_reply": "2025-02-19T09:21:57.068477Z",
     "shell.execute_reply.started": "2025-02-19T09:21:52.882336Z"
    }
   },
   "outputs": [],
   "source": [
    "from aper_package.interactive_tool import InteractiveTool"
   ]
  },
  {
   "cell_type": "code",
   "execution_count": 3,
   "id": "d1058374",
   "metadata": {
    "execution": {
     "iopub.execute_input": "2025-02-19T09:21:57.071216Z",
     "iopub.status.busy": "2025-02-19T09:21:57.070576Z",
     "iopub.status.idle": "2025-02-19T09:22:01.002246Z",
     "shell.execute_reply": "2025-02-19T09:22:01.001514Z",
     "shell.execute_reply.started": "2025-02-19T09:21:57.071191Z"
    }
   },
   "outputs": [],
   "source": [
    "tool = InteractiveTool()"
   ]
  },
  {
   "cell_type": "code",
   "execution_count": 4,
   "id": "95629e71",
   "metadata": {
    "execution": {
     "iopub.execute_input": "2025-02-19T09:22:01.003345Z",
     "iopub.status.busy": "2025-02-19T09:22:01.003104Z",
     "iopub.status.idle": "2025-02-19T09:22:01.436054Z",
     "shell.execute_reply": "2025-02-19T09:22:01.435283Z",
     "shell.execute_reply.started": "2025-02-19T09:22:01.003325Z"
    }
   },
   "outputs": [
    {
     "data": {
      "application/vnd.jupyter.widget-view+json": {
       "model_id": "9aefcc3ed8374b10a2957954b430da76",
       "version_major": 2,
       "version_minor": 0
      },
      "text/plain": [
       "VBox(children=(Tab(children=(VBox(children=(HTML(value='<h4>Select and load files</h4>'), VBox(children=(HBox(…"
      ]
     },
     "metadata": {},
     "output_type": "display_data"
    }
   ],
   "source": [
    "tool.show()"
   ]
  },
  {
   "cell_type": "code",
   "execution_count": null,
   "id": "386ea08a-b971-4bfb-bc8b-fdb1b86cd1d3",
   "metadata": {},
   "outputs": [],
   "source": []
  }
 ],
 "metadata": {
  "@webio": {
   "lastCommId": null,
   "lastKernelId": null
  },
  "kernelspec": {
   "display_name": "Python 3",
   "language": "python",
   "name": "python3"
  },
  "language_info": {
   "codemirror_mode": {
    "name": "ipython",
    "version": 3
   },
   "file_extension": ".py",
   "mimetype": "text/x-python",
   "name": "python",
   "nbconvert_exporter": "python",
   "pygments_lexer": "ipython3",
   "version": "3.11.9"
  },
  "sparkconnect": {
   "bundled_options": [
    "NXCALS",
    "SparkMetrics"
   ],
   "list_of_options": []
  }
 },
 "nbformat": 4,
 "nbformat_minor": 5
}
