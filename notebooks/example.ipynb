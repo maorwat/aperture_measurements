{
 "cells": [
  {
   "cell_type": "code",
   "execution_count": 2,
   "id": "4f0d71a7",
   "metadata": {
    "execution": {
     "iopub.execute_input": "2025-02-18T15:51:55.615450Z",
     "iopub.status.busy": "2025-02-18T15:51:55.614946Z",
     "iopub.status.idle": "2025-02-18T15:51:55.620431Z",
     "shell.execute_reply": "2025-02-18T15:51:55.619069Z",
     "shell.execute_reply.started": "2025-02-18T15:51:55.615421Z"
    }
   },
   "outputs": [],
   "source": [
    "from pathlib import Path\n",
    "import sys\n",
    "\n",
    "home_path = str(Path.cwd().parent)\n",
    "sys.path.append(home_path)"
   ]
  },
  {
   "cell_type": "code",
   "execution_count": 6,
   "id": "adddff48",
   "metadata": {
    "execution": {
     "iopub.execute_input": "2025-02-18T15:52:17.298577Z",
     "iopub.status.busy": "2025-02-18T15:52:17.298045Z",
     "iopub.status.idle": "2025-02-18T15:52:22.373697Z",
     "shell.execute_reply": "2025-02-18T15:52:22.372844Z",
     "shell.execute_reply.started": "2025-02-18T15:52:17.298549Z"
    }
   },
   "outputs": [],
   "source": [
    "from aper_package.interactive_tool import InteractiveTool"
   ]
  },
  {
   "cell_type": "code",
   "execution_count": 7,
   "id": "d1058374",
   "metadata": {
    "execution": {
     "iopub.execute_input": "2025-02-18T15:52:22.376021Z",
     "iopub.status.busy": "2025-02-18T15:52:22.374944Z",
     "iopub.status.idle": "2025-02-18T15:52:34.503927Z",
     "shell.execute_reply": "2025-02-18T15:52:34.503064Z",
     "shell.execute_reply.started": "2025-02-18T15:52:22.375992Z"
    }
   },
   "outputs": [],
   "source": [
    "tool = InteractiveTool()"
   ]
  },
  {
   "cell_type": "code",
   "execution_count": 8,
   "id": "95629e71",
   "metadata": {
    "execution": {
     "iopub.execute_input": "2025-02-18T15:53:32.352096Z",
     "iopub.status.busy": "2025-02-18T15:53:32.351771Z",
     "iopub.status.idle": "2025-02-18T15:53:32.994046Z",
     "shell.execute_reply": "2025-02-18T15:53:32.993321Z",
     "shell.execute_reply.started": "2025-02-18T15:53:32.352073Z"
    }
   },
   "outputs": [
    {
     "data": {
      "application/vnd.jupyter.widget-view+json": {
       "model_id": "362bc4c25a044b6ead1ba9833b073d42",
       "version_major": 2,
       "version_minor": 0
      },
      "text/plain": [
       "VBox(children=(Tab(children=(VBox(children=(HTML(value='<h4>Select and load files</h4>'), VBox(children=(HBox(…"
      ]
     },
     "metadata": {},
     "output_type": "display_data"
    }
   ],
   "source": [
    "tool.show()"
   ]
  },
  {
   "cell_type": "code",
   "execution_count": 7,
   "id": "6e866f12-26bb-4dc5-94f8-7e38c021df95",
   "metadata": {
    "execution": {
     "iopub.execute_input": "2025-02-18T15:50:49.631925Z",
     "iopub.status.busy": "2025-02-18T15:50:49.631280Z",
     "iopub.status.idle": "2025-02-18T15:50:49.662737Z",
     "shell.execute_reply": "2025-02-18T15:50:49.662008Z",
     "shell.execute_reply.started": "2025-02-18T15:50:49.631896Z"
    }
   },
   "outputs": [
    {
     "data": {
      "application/vnd.jupyter.widget-view+json": {
       "model_id": "0cb08d2d498945cea8117a5b40c84e29",
       "version_major": 2,
       "version_minor": 0
      },
      "text/plain": [
       "VBox(children=(VBox(children=(VBox(children=(HBox(children=(HBox(children=(Label(value='Line File:'), FileUplo…"
      ]
     },
     "metadata": {},
     "output_type": "display_data"
    }
   ],
   "source": [
    "import ipywidgets as widgets\n",
    "from IPython.display import display\n",
    "\n",
    "# Placeholder file chooser widgets (replace with your actual widgets)\n",
    "line_chooser_with_label = widgets.HBox([\n",
    "    widgets.Label(value=\"Line File:\"),\n",
    "    widgets.FileUpload()\n",
    "])\n",
    "\n",
    "aperture_chooser_with_label = widgets.HBox([\n",
    "    widgets.Label(value=\"Aperture File:\"),\n",
    "    widgets.FileUpload()\n",
    "])\n",
    "\n",
    "optics_chooser_with_label = widgets.HBox([\n",
    "    widgets.Label(value=\"Optics File:\"),\n",
    "    widgets.FileUpload()\n",
    "])\n",
    "\n",
    "# Help button setup\n",
    "help_icon = widgets.Button(\n",
    "    description=\"ℹ\",\n",
    "    tooltip=\"Click for help\",\n",
    "    layout=widgets.Layout(width=\"30px\", height=\"30px\")\n",
    ")\n",
    "\n",
    "# Help instructions (adjust content as needed)\n",
    "instructions = (\n",
    "    \"<b>Line File:</b><br>\"\n",
    "    \"1. Select a JSON file from the xsuite folder (e.g. <code>LHC_run3/machine_configurations/2023_MD/xsuite</code>).<br>\"\n",
    "    \"   - Choose a file for Beam 1 (e.g. <code>flat_top_b1.json</code>). The path for Beam 2 will be auto-generated.<br>\"\n",
    "    \"   - This is the only required file.<br>\"\n",
    "    \"2. To modify knobs, use a JSON file with deferred expressions.<br><br>\"\n",
    "\n",
    "    \"<b>Aperture File:</b><br>\"\n",
    "    \"1. Select a TFS file from the MADX folder (e.g. <code>LHC_run3/machine_configurations/2023_MD/MADX/injection</code>).<br>\"\n",
    "    \"   - Choose a file for Beam 1 (e.g., <code>all_optics_B1.tfs</code>). The path for Beam 2 will be auto-generated.<br>\"\n",
    "    \"2. If you do not select this file, the aperture will not be visualized.<br><br>\"\n",
    "\n",
    "    \"<b>Optics File:</b><br>\"\n",
    "    \"1. Select a TFS file from the MADX_thick folder (e.g. <code>LHC_run3/machine_configurations/2023_MD/MADX_thick/injection</code>).<br>\"\n",
    "    \"2. If you do not select this file, the optics will not be visualized above the graph.<br><br>\"\n",
    "\n",
    "    \"<b>After Selecting All Files:</b><br>\"\n",
    "    \"- You can now adjust some graph properties and press the <b>'Apply Changes'</b> button.<br>\"\n",
    "    \"- Progress will be displayed just above the graph.\"\n",
    ")\n",
    "\n",
    "help_output = widgets.Output()\n",
    "\n",
    "def toggle_help(change):\n",
    "    with help_output:\n",
    "        help_output.clear_output()  # Clear any previous output\n",
    "        if help_output.layout.display == \"none\":\n",
    "            # Display instructions inside a box below the help button\n",
    "            display(widgets.HTML(instructions))\n",
    "            help_output.layout.display = \"block\"\n",
    "        else:\n",
    "            help_output.layout.display = \"none\"\n",
    "\n",
    "help_output.layout.display = \"none\"\n",
    "help_icon.on_click(toggle_help)\n",
    "\n",
    "# Group together file choosers\n",
    "file_chooser_controls = [\n",
    "    line_chooser_with_label, \n",
    "    aperture_chooser_with_label, \n",
    "    optics_chooser_with_label,\n",
    "    help_icon,  # Add help button here\n",
    "]\n",
    "\n",
    "# Create layout for the first row of controls (file chooser)\n",
    "file_chooser_layout = widgets.HBox(\n",
    "    file_chooser_controls,\n",
    "    layout=widgets.Layout(\n",
    "        justify_content=\"space-between\",  # Adjust spacing\n",
    "        align_items=\"center\",  # Align items properly\n",
    "        width=\"100%\",\n",
    "        padding=\"10px\",\n",
    "        border=\"solid 1px #ddd\",  # Lighter border\n",
    "    ),\n",
    ")\n",
    "\n",
    "# Larger HBox to wrap file_chooser_layout (you can add more widgets to this)\n",
    "file_chooser_layout\n",
    "\n",
    "# Larger VBox to hold everything\n",
    "main_vbox = widgets.VBox([\n",
    "    larger_hbox,  # Put your HBox inside the VBox\n",
    "    widgets.Label(\"Additional Controls Below\")  # Another label or control\n",
    "])\n",
    "\n",
    "# Display the whole layout including the help instructions box\n",
    "display(widgets.VBox([main_vbox, help_output]))\n",
    "\n"
   ]
  },
  {
   "cell_type": "code",
   "execution_count": 18,
   "id": "4b8ed50b-995a-4f25-8e65-032b9274e3f4",
   "metadata": {
    "execution": {
     "iopub.execute_input": "2025-02-18T15:41:03.722201Z",
     "iopub.status.busy": "2025-02-18T15:41:03.721365Z",
     "iopub.status.idle": "2025-02-18T15:41:03.729245Z",
     "shell.execute_reply": "2025-02-18T15:41:03.728296Z",
     "shell.execute_reply.started": "2025-02-18T15:41:03.722174Z"
    }
   },
   "outputs": [
    {
     "data": {
      "application/vnd.jupyter.widget-view+json": {
       "model_id": "36ba7dc0e04848aa99855fe1db748070",
       "version_major": 2,
       "version_minor": 0
      },
      "text/plain": [
       "Button(description='❓', style=ButtonStyle(), tooltip='Click for help')"
      ]
     },
     "execution_count": 18,
     "metadata": {},
     "output_type": "execute_result"
    }
   ],
   "source": [
    "help_icon = widgets.Button(\n",
    "    description=\"❓\",\n",
    "    tooltip=\"Click for help\"\n",
    ")\n",
    "\n",
    "\n",
    "help_icon"
   ]
  },
  {
   "cell_type": "code",
   "execution_count": null,
   "id": "83b4e6c1-5da7-4aff-9279-24b73673ab63",
   "metadata": {},
   "outputs": [],
   "source": []
  }
 ],
 "metadata": {
  "@webio": {
   "lastCommId": null,
   "lastKernelId": null
  },
  "kernelspec": {
   "display_name": "Python 3",
   "language": "python",
   "name": "python3"
  },
  "language_info": {
   "codemirror_mode": {
    "name": "ipython",
    "version": 3
   },
   "file_extension": ".py",
   "mimetype": "text/x-python",
   "name": "python",
   "nbconvert_exporter": "python",
   "pygments_lexer": "ipython3",
   "version": "3.11.9"
  },
  "sparkconnect": {
   "bundled_options": [
    "NXCALS",
    "SparkMetrics"
   ],
   "list_of_options": []
  }
 },
 "nbformat": 4,
 "nbformat_minor": 5
}
