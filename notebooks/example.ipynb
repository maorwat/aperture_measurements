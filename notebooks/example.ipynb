{
 "cells": [
  {
   "cell_type": "code",
   "execution_count": 1,
   "id": "4f0d71a7",
   "metadata": {
    "execution": {
     "iopub.execute_input": "2025-02-25T13:34:45.173407Z",
     "iopub.status.busy": "2025-02-25T13:34:45.172882Z",
     "iopub.status.idle": "2025-02-25T13:34:45.181303Z",
     "shell.execute_reply": "2025-02-25T13:34:45.180560Z",
     "shell.execute_reply.started": "2025-02-25T13:34:45.173378Z"
    }
   },
   "outputs": [],
   "source": [
    "from pathlib import Path\n",
    "import sys\n",
    "\n",
    "home_path = str(Path.cwd().parent)\n",
    "sys.path.append(home_path)"
   ]
  },
  {
   "cell_type": "code",
   "execution_count": 2,
   "id": "adddff48",
   "metadata": {
    "execution": {
     "iopub.execute_input": "2025-02-25T13:34:45.791872Z",
     "iopub.status.busy": "2025-02-25T13:34:45.791404Z",
     "iopub.status.idle": "2025-02-25T13:34:55.001973Z",
     "shell.execute_reply": "2025-02-25T13:34:55.001267Z",
     "shell.execute_reply.started": "2025-02-25T13:34:45.791843Z"
    }
   },
   "outputs": [],
   "source": [
    "from aper_package.interactive_tool import InteractiveTool"
   ]
  },
  {
   "cell_type": "code",
   "execution_count": 3,
   "id": "d1058374",
   "metadata": {
    "execution": {
     "iopub.execute_input": "2025-02-25T13:34:55.003519Z",
     "iopub.status.busy": "2025-02-25T13:34:55.003124Z",
     "iopub.status.idle": "2025-02-25T13:35:38.157152Z",
     "shell.execute_reply": "2025-02-25T13:35:38.156400Z",
     "shell.execute_reply.started": "2025-02-25T13:34:55.003494Z"
    }
   },
   "outputs": [],
   "source": [
    "tool = InteractiveTool()"
   ]
  },
  {
   "cell_type": "code",
   "execution_count": 4,
   "id": "95629e71",
   "metadata": {
    "execution": {
     "iopub.execute_input": "2025-02-25T13:35:38.158273Z",
     "iopub.status.busy": "2025-02-25T13:35:38.158030Z",
     "iopub.status.idle": "2025-02-25T13:35:44.066115Z",
     "shell.execute_reply": "2025-02-25T13:35:44.065076Z",
     "shell.execute_reply.started": "2025-02-25T13:35:38.158253Z"
    }
   },
   "outputs": [
    {
     "data": {
      "application/vnd.jupyter.widget-view+json": {
       "model_id": "91bc955f12af4b489fcdfae96e07b640",
       "version_major": 2,
       "version_minor": 0
      },
      "text/plain": [
       "VBox(children=(Tab(children=(VBox(children=(HTML(value='<h4>Select and load files</h4>'), VBox(children=(HBox(…"
      ]
     },
     "metadata": {},
     "output_type": "display_data"
    }
   ],
   "source": [
    "tool.show()"
   ]
  },
  {
   "cell_type": "code",
   "execution_count": null,
   "id": "386ea08a-b971-4bfb-bc8b-fdb1b86cd1d3",
   "metadata": {},
   "outputs": [],
   "source": []
  }
 ],
 "metadata": {
  "@webio": {
   "lastCommId": null,
   "lastKernelId": null
  },
  "kernelspec": {
   "display_name": "Python 3",
   "language": "python",
   "name": "python3"
  },
  "language_info": {
   "codemirror_mode": {
    "name": "ipython",
    "version": 3
   },
   "file_extension": ".py",
   "mimetype": "text/x-python",
   "name": "python",
   "nbconvert_exporter": "python",
   "pygments_lexer": "ipython3",
   "version": "3.11.9"
  },
  "sparkconnect": {
   "bundled_options": [
    "NXCALS",
    "SparkMetrics"
   ],
   "list_of_options": []
  }
 },
 "nbformat": 4,
 "nbformat_minor": 5
}
