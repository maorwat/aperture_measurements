{
 "cells": [
  {
   "cell_type": "code",
   "execution_count": 1,
   "id": "4f0d71a7",
   "metadata": {},
   "outputs": [],
   "source": [
    "from pathlib import Path\n",
    "import warnings\n",
    "import sys\n",
    "import matplotlib.pyplot as plt\n",
    "\n",
    "home_path = str(Path.cwd().parent)\n",
    "sys.path.append(home_path)\n",
    "\n",
    "sys.path.append('/eos/user/m/morwat/.local/lib/python3.9/site-packages/')"
   ]
  },
  {
   "cell_type": "code",
   "execution_count": 2,
   "id": "adddff48",
   "metadata": {},
   "outputs": [],
   "source": [
    "from aper_package.interactive_tool import InteractiveTool"
   ]
  },
  {
   "cell_type": "code",
   "execution_count": 3,
   "id": "d1058374",
   "metadata": {
    "scrolled": false
   },
   "outputs": [
    {
     "name": "stdout",
     "output_type": "stream",
     "text": [
      "ENVIRONMENT:\n",
      "NXCALS_VERSION=1.6.2\n",
      "VIRTUAL_ENV=\n",
      "SPARK_HOME=/home/morwat/miniforge3/nxcals-bundle\n",
      "SPARK_CONF_DIR=/tmp/morwat/nxcals-8e0ff5b68f6537e6e346e92d94451759/conf\n",
      "SPARK_DEFAULTS=/home/morwat/miniforge3/nxcals-bundle/conf/spark-defaults.conf\n",
      "NXCALS_WORKSPACE_TEMP_DIR=/tmp/morwat/nxcals-8e0ff5b68f6537e6e346e92d94451759\n",
      "PACKED_VENV_FILE=/tmp/morwat/nxcals-8e0ff5b68f6537e6e346e92d94451759/nxcals-python3-env.tar.gz\n",
      "PYSPARK_PYTHON=/home/morwat/miniforge3/bin/python\n",
      "PYSPARK_DRIVER_PYTHON=/bin/python\n",
      "PYSPARK_DRIVER_PYTHON_OPTS=\n",
      "LOCK=/tmp/morwat/nxcals-8e0ff5b68f6537e6e346e92d94451759/.lock\n",
      "\n",
      "IMPORTANT:\n",
      "Rebuilding of the packed venv is required in cases there are new or modified packages provided by a user. In order to recreate the packed venv please:\n",
      "        - remove the file (rm /tmp/morwat/nxcals-8e0ff5b68f6537e6e346e92d94451759/nxcals-python3-env.tar.gz)\n",
      "        - execute your script again (rebuild will be performed during the startup of PySpark/Python)\n",
      "Target directory can be set with an env variable NXCALS_WORKSPACE_TEMP_DIR (if not set a temp dir will be used).\n",
      "Adding NXCALS related files to packed venv can be enabled by setting NXCALS_PACK_ALL_PACKAGES with any value.\n",
      "Trying to determine YARN usage to make Python work correctly (conf/spark-env.sh)...\n",
      "Not using YARN\n"
     ]
    }
   ],
   "source": [
    "tool = InteractiveTool(spark = 'nxcals')"
   ]
  },
  {
   "cell_type": "code",
   "execution_count": 4,
   "id": "95629e71",
   "metadata": {
    "scrolled": false
   },
   "outputs": [
    {
     "data": {
      "application/vnd.jupyter.widget-view+json": {
       "model_id": "2d587fa8b1e94b2a97a830204d4a9f87",
       "version_major": 2,
       "version_minor": 0
      },
      "text/plain": [
       "VBox(children=(Tab(children=(VBox(children=(HTML(value='<h4>Select and load files</h4>'), HBox(children=(HBox(…"
      ]
     },
     "metadata": {},
     "output_type": "display_data"
    }
   ],
   "source": [
    "warnings.filterwarnings('ignore')\n",
    "tool.show()"
   ]
  },
  {
   "cell_type": "code",
   "execution_count": 10,
   "id": "9d5ed780",
   "metadata": {},
   "outputs": [
    {
     "data": {
      "application/vnd.jupyter.widget-view+json": {
       "model_id": "3760d0071acf4a40b12286935e0bb464",
       "version_major": 2,
       "version_minor": 0
      },
      "text/plain": [
       "VBox(children=(FigureWidget({\n",
       "    'data': [{'mode': 'lines+markers',\n",
       "              'type': 'scatter',\n",
       "        …"
      ]
     },
     "metadata": {},
     "output_type": "display_data"
    }
   ],
   "source": [
    "import ipywidgets as widgets\n",
    "import plotly.graph_objects as go\n",
    "from IPython.display import display\n",
    "\n",
    "# Create a dummy FigureWidget\n",
    "fig = go.FigureWidget(\n",
    "    data=[go.Scatter(x=[1, 2, 3], y=[3, 1, 2], mode='lines+markers')],\n",
    "    layout=go.Layout(title=\"Dummy Figure Widget\")\n",
    ")\n",
    "\n",
    "# Create a VBox layout with buttons and figure\n",
    "box = widgets.VBox([fig])\n",
    "\n",
    "# Display the VBox\n",
    "display(box)\n",
    "\n"
   ]
  },
  {
   "cell_type": "code",
   "execution_count": 11,
   "id": "493a8925",
   "metadata": {},
   "outputs": [
    {
     "data": {
      "application/vnd.jupyter.widget-view+json": {
       "model_id": "b06cd5bcf1cf4c39b7e5b5b2ede89b66",
       "version_major": 2,
       "version_minor": 0
      },
      "text/plain": [
       "Label(value='', layout=Layout(justify_content='flex-start'))"
      ]
     },
     "execution_count": 11,
     "metadata": {},
     "output_type": "execute_result"
    }
   ],
   "source": [
    "tool.progress_label"
   ]
  },
  {
   "cell_type": "code",
   "execution_count": null,
   "id": "caea7e89",
   "metadata": {},
   "outputs": [],
   "source": []
  }
 ],
 "metadata": {
  "@webio": {
   "lastCommId": null,
   "lastKernelId": null
  },
  "kernelspec": {
   "display_name": "base",
   "language": "python",
   "name": "python3"
  },
  "language_info": {
   "codemirror_mode": {
    "name": "ipython",
    "version": 3
   },
   "file_extension": ".py",
   "mimetype": "text/x-python",
   "name": "python",
   "nbconvert_exporter": "python",
   "pygments_lexer": "ipython3",
   "version": "3.10.14"
  },
  "sparkconnect": {
   "bundled_options": [
    "NXCALS",
    "SparkMetrics"
   ],
   "list_of_options": []
  }
 },
 "nbformat": 4,
 "nbformat_minor": 5
}
