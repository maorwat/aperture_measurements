{
 "cells": [
  {
   "cell_type": "code",
   "execution_count": 2,
   "id": "4f0d71a7",
   "metadata": {
    "execution": {
     "iopub.execute_input": "2025-02-17T13:49:36.873746Z",
     "iopub.status.busy": "2025-02-17T13:49:36.872755Z",
     "iopub.status.idle": "2025-02-17T13:49:36.878289Z",
     "shell.execute_reply": "2025-02-17T13:49:36.877485Z",
     "shell.execute_reply.started": "2025-02-17T13:49:36.873717Z"
    }
   },
   "outputs": [],
   "source": [
    "from pathlib import Path\n",
    "import sys\n",
    "\n",
    "home_path = str(Path.cwd().parent)\n",
    "sys.path.append(home_path)\n",
    "\n",
    "#sys.path.append('/eos/user/m/morwat/.local/lib/python3.11/site-packages/')\n",
    "\n",
    "#for x in ['xtrack','xobjects','xdeps','xpart']:\n",
    "   # sys.path.append(f'/eos/home-m/morwat/xsuite/{x}/')"
   ]
  },
  {
   "cell_type": "code",
   "execution_count": 3,
   "id": "adddff48",
   "metadata": {
    "execution": {
     "iopub.execute_input": "2025-02-17T13:49:37.851156Z",
     "iopub.status.busy": "2025-02-17T13:49:37.850651Z",
     "iopub.status.idle": "2025-02-17T13:49:41.043306Z",
     "shell.execute_reply": "2025-02-17T13:49:41.042457Z",
     "shell.execute_reply.started": "2025-02-17T13:49:37.851128Z"
    }
   },
   "outputs": [],
   "source": [
    "from aper_package.interactive_tool import InteractiveTool"
   ]
  },
  {
   "cell_type": "code",
   "execution_count": 4,
   "id": "d1058374",
   "metadata": {
    "execution": {
     "iopub.execute_input": "2025-02-17T13:49:41.971675Z",
     "iopub.status.busy": "2025-02-17T13:49:41.970168Z",
     "iopub.status.idle": "2025-02-17T13:49:48.517795Z",
     "shell.execute_reply": "2025-02-17T13:49:48.517040Z",
     "shell.execute_reply.started": "2025-02-17T13:49:41.971642Z"
    }
   },
   "outputs": [],
   "source": [
    "tool = InteractiveTool()"
   ]
  },
  {
   "cell_type": "code",
   "execution_count": 5,
   "id": "95629e71",
   "metadata": {
    "execution": {
     "iopub.execute_input": "2025-02-17T13:49:48.519314Z",
     "iopub.status.busy": "2025-02-17T13:49:48.519058Z",
     "iopub.status.idle": "2025-02-17T13:49:49.059752Z",
     "shell.execute_reply": "2025-02-17T13:49:49.059039Z",
     "shell.execute_reply.started": "2025-02-17T13:49:48.519293Z"
    }
   },
   "outputs": [
    {
     "data": {
      "application/vnd.jupyter.widget-view+json": {
       "model_id": "c196f54222ac4861aba0423b4c39ec5c",
       "version_major": 2,
       "version_minor": 0
      },
      "text/plain": [
       "VBox(children=(Tab(children=(VBox(children=(HTML(value='<h4>Select and load files</h4>'), HBox(children=(HBox(…"
      ]
     },
     "metadata": {},
     "output_type": "display_data"
    }
   ],
   "source": [
    "tool.show()"
   ]
  },
  {
   "cell_type": "code",
   "execution_count": null,
   "id": "0c1d62f3",
   "metadata": {},
   "outputs": [],
   "source": []
  }
 ],
 "metadata": {
  "@webio": {
   "lastCommId": null,
   "lastKernelId": null
  },
  "kernelspec": {
   "display_name": "Python 3",
   "language": "python",
   "name": "python3"
  },
  "language_info": {
   "codemirror_mode": {
    "name": "ipython",
    "version": 3
   },
   "file_extension": ".py",
   "mimetype": "text/x-python",
   "name": "python",
   "nbconvert_exporter": "python",
   "pygments_lexer": "ipython3",
   "version": "3.11.9"
  },
  "sparkconnect": {
   "bundled_options": [
    "NXCALS",
    "SparkMetrics"
   ],
   "list_of_options": []
  }
 },
 "nbformat": 4,
 "nbformat_minor": 5
}
