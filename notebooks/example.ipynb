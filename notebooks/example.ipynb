{
 "cells": [
  {
   "cell_type": "code",
   "execution_count": 1,
   "id": "4f0d71a7",
   "metadata": {},
   "outputs": [],
   "source": [
    "from pathlib import Path\n",
    "import sys\n",
    "\n",
    "home_path = str(Path.cwd().parent)\n",
    "sys.path.append(home_path)\n",
    "\n",
    "sys.path.append('/eos/user/m/morwat/.local/lib/python3.9/site-packages/')"
   ]
  },
  {
   "cell_type": "code",
   "execution_count": 2,
   "id": "adddff48",
   "metadata": {},
   "outputs": [],
   "source": [
    "from aper_package.interactive_tool import InteractiveTool"
   ]
  },
  {
   "cell_type": "code",
   "execution_count": 3,
   "id": "d1058374",
   "metadata": {
    "scrolled": false
   },
   "outputs": [],
   "source": [
    "tool = InteractiveTool()"
   ]
  },
  {
   "cell_type": "code",
   "execution_count": 4,
   "id": "95629e71",
   "metadata": {
    "scrolled": false
   },
   "outputs": [
    {
     "data": {
      "application/vnd.jupyter.widget-view+json": {
       "model_id": "f6a5d91dccef471a948054447f90c528",
       "version_major": 2,
       "version_minor": 0
      },
      "text/plain": [
       "VBox(children=(Tab(children=(VBox(children=(HTML(value='<h4>Select and load files</h4>'), HBox(children=(HBox(…"
      ]
     },
     "metadata": {},
     "output_type": "display_data"
    }
   ],
   "source": [
    "tool.show()"
   ]
  },
  {
   "cell_type": "code",
   "execution_count": 6,
   "id": "2cf4634b",
   "metadata": {},
   "outputs": [
    {
     "name": "stdout",
     "output_type": "stream",
     "text": [
      "Tab(children=(VBox(children=(HTML(value='<h4>Select and load files</h4>'), HBox(children=(HBox(children=(Label(value='Select Line File:'), FileChooser(path='/eos/project-i02/c/collimation-team/machine_configurations', filename='', title='', show_hidden=False, select_desc='Select', change_desc='Change', select_default=False, show_only_dirs=False, dir_icon_append=False, dir_icon='📁 '))), HBox(children=(Label(value='Select Aperture File:'), FileChooser(path='/eos/project-i02/c/collimation-team/machine_configurations', filename='', title='', show_hidden=False, select_desc='Select', change_desc='Change', select_default=False, show_only_dirs=False, dir_icon_append=False, dir_icon='📁 '))), HBox(children=(Label(value='Select Optics File:'), FileChooser(path='/eos/project-i02/c/collimation-team/machine_configurations', filename='', title='', show_hidden=False, select_desc='Select', change_desc='Change', select_default=False, show_only_dirs=False, dir_icon_append=False, dir_icon='📁 ')))), layout=Layout(align_items='flex-start', border_bottom='solid 2px #ccc', border_left='solid 2px #ccc', border_right='solid 2px #ccc', border_top='solid 2px #ccc', justify_content='space-around', padding='10px', width='100%')), HTML(value='<h4>Select and adjust knobs</h4>'), HBox(children=(Dropdown(description='Select knob:', options=(), value=None), Button(description='Add', disabled=True, style=ButtonStyle(button_color='rgb(179, 222, 105)'), tooltip='Add the selected knob to the list of adjustable knobs.'), Button(description='Reset knobs', disabled=True, style=ButtonStyle(button_color='rgb(255, 242, 174)'), tooltip='Reset all knobs to their default or nominal values.')), layout=Layout(align_items='center', border_bottom='solid 2px #ccc', border_left='solid 2px #ccc', border_right='solid 2px #ccc', border_top='solid 2px #ccc', justify_content='space-around', padding='10px', width='100%')), VBox(layout=Layout(align_items='center', border_bottom='solid 2px #eee', border_left='solid 2px #eee', border_right='solid 2px #eee', border_top='solid 2px #eee', justify_content='center', padding='10px', width='100%')), HTML(value='<h4>Change line and graph properties</h4>'), HBox(children=(Dropdown(description='IR:', layout=Layout(width='200px'), options=('all', 'IR1', 'IR2', 'IR3', 'IR4', 'IR5', 'IR6', 'IR7', 'IR8'), value='all'), Text(value='', description='First element:', layout=Layout(width='300px'), placeholder='e. g. ip3', style=TextStyle(description_width='initial')), FloatText(value=4.0, description='Envelope size [σ]:', layout=Layout(width='300px'), style=DescriptionStyle(description_width='initial')), Dropdown(description='Plane:', options=('horizontal', 'vertical'), value='horizontal'), Button(description='Apply changes', style=ButtonStyle(button_color='pink'))), layout=Layout(align_items='center', border_bottom='solid 2px #ccc', border_left='solid 2px #ccc', border_right='solid 2px #ccc', border_top='solid 2px #ccc', justify_content='space-around', padding='10px', width='100%'))), layout=Layout(border_bottom='solid 2px #ccc', border_left='solid 2px #ccc', border_right='solid 2px #ccc', border_top='solid 2px #ccc', justify_content='space-around', padding='10px', width='100%')), VBox(children=(HTML(value='<h4>Define and configure bumps</h4>'), HBox(children=(Button(description='Define a new bump', disabled=True, style=ButtonStyle(button_color='pink')), Button(description='Remove all bumps', disabled=True, style=ButtonStyle(button_color='rgb(255, 242, 174)'))), layout=Layout(align_items='center', border_bottom='solid 2px #ccc', border_left='solid 2px #ccc', border_right='solid 2px #ccc', border_top='solid 2px #ccc', justify_content='space-around', padding='10px', width='100%')), HBox(children=(Dropdown(description='Select Bump:', layout=Layout(width='200px'), options=(), value=None), HTML(value='Sort correctors by plane, beam, region:'), Dropdown(description='Plane:', layout=Layout(width='200px'), options=('horizontal', 'vertical'), value='horizontal'), Dropdown(description='Beam:', layout=Layout(width='200px'), options=('beam 1', 'beam 2'), value='beam 1'), Dropdown(description='Region:', layout=Layout(width='200px'), options=('l1', 'r1', 'l2', 'r2', 'l3', 'r3', 'l4', 'r4', 'l5', 'r5', 'l6', 'r6', 'l7', 'r7', 'l8', 'r8'), value='l1'), Dropdown(description='Corrector:', layout=Layout(width='200px'), options=(), value=None), Button(description='Add corrector', disabled=True, layout=Layout(width='150px'), style=ButtonStyle(button_color='rgb(179, 222, 105)'))), layout=Layout(align_items='center', border_bottom='solid 2px #ccc', border_left='solid 2px #ccc', border_right='solid 2px #ccc', border_top='solid 2px #ccc', justify_content='space-around', padding='10px', width='100%')), VBox(), HTML(value='<h4>Select bumps for final calculation</h4>'), HBox(children=(Dropdown(description='Final Bump', layout=Layout(width='200px'), options=(), value=None), Button(description='Add Bump', disabled=True, layout=Layout(width='150px'), style=ButtonStyle(button_color='rgb(179, 222, 105)')), Button(description='Apply', disabled=True, layout=Layout(width='150px'), style=ButtonStyle(button_color='pink'))), layout=Layout(align_items='center', border_bottom='solid 2px #ccc', border_left='solid 2px #ccc', border_right='solid 2px #ccc', border_top='solid 2px #ccc', justify_content='space-around', padding='10px', width='100%')), GridBox(layout=Layout(grid_template_columns='repeat(4, 500px)', width='100%'))), layout=Layout(border_bottom='solid 2px #ccc', border_left='solid 2px #ccc', border_right='solid 2px #ccc', border_top='solid 2px #ccc', padding='10px', width='100%')), VBox(children=(HTML(value='<h4>Add a local bump using line.match</h4>'), HBox(children=(Text(value='', description='Element:', layout=Layout(width='200px'), style=TextStyle(description_width='initial')), FloatText(value=0.0, description='Bump size [mm]:', layout=Layout(width='200px'), style=DescriptionStyle(description_width='initial')), Button(description='Remove all bumps', disabled=True, style=ButtonStyle(button_color='rgb(255, 242, 174)'))), layout=Layout(align_items='center', border_bottom='solid 2px #ccc', border_left='solid 2px #ccc', border_right='solid 2px #ccc', border_top='solid 2px #ccc', justify_content='space-around', padding='10px', width='100%')), HBox(children=(Dropdown(description='Beam:', layout=Layout(width='200px'), options=('beam 1', 'beam 2'), value='beam 1'), Dropdown(description='Plane:', layout=Layout(width='200px'), options=('horizontal', 'vertical'), value='horizontal'), Dropdown(description='Region:', layout=Layout(width='200px'), options=('l1', 'r1', 'l2', 'r2', 'l3', 'r3', 'l4', 'r4', 'l5', 'r5', 'l6', 'r6', 'l7', 'r7', 'l8', 'r8'), value='l1'), Dropdown(description='Corrector:', layout=Layout(width='200px'), options=(), value=None), Button(description='Add corrector', disabled=True, layout=Layout(width='150px'), style=ButtonStyle(button_color='rgb(179, 222, 105)')), Button(description='Match', disabled=True, style=ButtonStyle(button_color='pink'))), layout=Layout(align_items='center', border_bottom='solid 2px #ccc', border_left='solid 2px #ccc', border_right='solid 2px #ccc', border_top='solid 2px #ccc', justify_content='space-around', padding='10px', width='100%')), HTML(value='<h4>Correctors to be varied for matching</h4>'), HBox(layout=Layout(border_bottom='solid 2px #ccc', border_left='solid 2px #ccc', border_right='solid 2px #ccc', border_top='solid 2px #ccc', padding='10px', width='100%'))), layout=Layout(border_bottom='solid 2px #ccc', border_left='solid 2px #ccc', border_right='solid 2px #ccc', border_top='solid 2px #ccc', padding='10px', width='100%'))), layout=Layout(width='100%'), selected_index=0, titles=('Main', 'Define local bump', 'Match local bump'))\n"
     ]
    }
   ],
   "source": [
    "print(tool.tab)"
   ]
  },
  {
   "cell_type": "code",
   "execution_count": 1,
   "id": "a26c1164",
   "metadata": {},
   "outputs": [
    {
     "data": {
      "application/vnd.jupyter.widget-view+json": {
       "model_id": "ff634c0ada834aa48c299a0663d48210",
       "version_major": 2,
       "version_minor": 0
      },
      "text/plain": [
       "VBox(children=(Button(description='Button 1', style=ButtonStyle()), Button(description='Button 2', style=Butto…"
      ]
     },
     "metadata": {},
     "output_type": "display_data"
    }
   ],
   "source": [
    "import ipywidgets as widgets\n",
    "import plotly.graph_objects as go\n",
    "from IPython.display import display\n",
    "\n",
    "# Create buttons\n",
    "button1 = widgets.Button(description=\"Button 1\")\n",
    "button2 = widgets.Button(description=\"Button 2\")\n",
    "\n",
    "# Create a dummy FigureWidget\n",
    "fig = go.FigureWidget(\n",
    "    data=[go.Scatter(x=[1, 2, 3], y=[3, 1, 2], mode='lines+markers')],\n",
    "    layout=go.Layout(title=\"Dummy Figure Widget\")\n",
    ")\n",
    "\n",
    "# Create a VBox layout with buttons and figure\n",
    "box = widgets.VBox([button1, button2])\n",
    "\n",
    "# Display the VBox\n",
    "display(box)"
   ]
  },
  {
   "cell_type": "code",
   "execution_count": 2,
   "id": "398c55c0",
   "metadata": {},
   "outputs": [
    {
     "data": {
      "application/vnd.plotly.v1+json": {
       "config": {
        "plotlyServerURL": "https://plot.ly"
       },
       "data": [
        {
         "mode": "lines",
         "name": "Line Plot",
         "type": "scatter",
         "x": [
          1,
          2,
          3,
          4
         ],
         "y": [
          10,
          11,
          12,
          13
         ]
        }
       ],
       "layout": {
        "template": {
         "data": {
          "bar": [
           {
            "error_x": {
             "color": "#f2f5fa"
            },
            "error_y": {
             "color": "#f2f5fa"
            },
            "marker": {
             "line": {
              "color": "rgb(17,17,17)",
              "width": 0.5
             },
             "pattern": {
              "fillmode": "overlay",
              "size": 10,
              "solidity": 0.2
             }
            },
            "type": "bar"
           }
          ],
          "barpolar": [
           {
            "marker": {
             "line": {
              "color": "rgb(17,17,17)",
              "width": 0.5
             },
             "pattern": {
              "fillmode": "overlay",
              "size": 10,
              "solidity": 0.2
             }
            },
            "type": "barpolar"
           }
          ],
          "carpet": [
           {
            "aaxis": {
             "endlinecolor": "#A2B1C6",
             "gridcolor": "#506784",
             "linecolor": "#506784",
             "minorgridcolor": "#506784",
             "startlinecolor": "#A2B1C6"
            },
            "baxis": {
             "endlinecolor": "#A2B1C6",
             "gridcolor": "#506784",
             "linecolor": "#506784",
             "minorgridcolor": "#506784",
             "startlinecolor": "#A2B1C6"
            },
            "type": "carpet"
           }
          ],
          "choropleth": [
           {
            "colorbar": {
             "outlinewidth": 0,
             "ticks": ""
            },
            "type": "choropleth"
           }
          ],
          "contour": [
           {
            "colorbar": {
             "outlinewidth": 0,
             "ticks": ""
            },
            "colorscale": [
             [
              0,
              "#0d0887"
             ],
             [
              0.1111111111111111,
              "#46039f"
             ],
             [
              0.2222222222222222,
              "#7201a8"
             ],
             [
              0.3333333333333333,
              "#9c179e"
             ],
             [
              0.4444444444444444,
              "#bd3786"
             ],
             [
              0.5555555555555556,
              "#d8576b"
             ],
             [
              0.6666666666666666,
              "#ed7953"
             ],
             [
              0.7777777777777778,
              "#fb9f3a"
             ],
             [
              0.8888888888888888,
              "#fdca26"
             ],
             [
              1,
              "#f0f921"
             ]
            ],
            "type": "contour"
           }
          ],
          "contourcarpet": [
           {
            "colorbar": {
             "outlinewidth": 0,
             "ticks": ""
            },
            "type": "contourcarpet"
           }
          ],
          "heatmap": [
           {
            "colorbar": {
             "outlinewidth": 0,
             "ticks": ""
            },
            "colorscale": [
             [
              0,
              "#0d0887"
             ],
             [
              0.1111111111111111,
              "#46039f"
             ],
             [
              0.2222222222222222,
              "#7201a8"
             ],
             [
              0.3333333333333333,
              "#9c179e"
             ],
             [
              0.4444444444444444,
              "#bd3786"
             ],
             [
              0.5555555555555556,
              "#d8576b"
             ],
             [
              0.6666666666666666,
              "#ed7953"
             ],
             [
              0.7777777777777778,
              "#fb9f3a"
             ],
             [
              0.8888888888888888,
              "#fdca26"
             ],
             [
              1,
              "#f0f921"
             ]
            ],
            "type": "heatmap"
           }
          ],
          "heatmapgl": [
           {
            "colorbar": {
             "outlinewidth": 0,
             "ticks": ""
            },
            "colorscale": [
             [
              0,
              "#0d0887"
             ],
             [
              0.1111111111111111,
              "#46039f"
             ],
             [
              0.2222222222222222,
              "#7201a8"
             ],
             [
              0.3333333333333333,
              "#9c179e"
             ],
             [
              0.4444444444444444,
              "#bd3786"
             ],
             [
              0.5555555555555556,
              "#d8576b"
             ],
             [
              0.6666666666666666,
              "#ed7953"
             ],
             [
              0.7777777777777778,
              "#fb9f3a"
             ],
             [
              0.8888888888888888,
              "#fdca26"
             ],
             [
              1,
              "#f0f921"
             ]
            ],
            "type": "heatmapgl"
           }
          ],
          "histogram": [
           {
            "marker": {
             "pattern": {
              "fillmode": "overlay",
              "size": 10,
              "solidity": 0.2
             }
            },
            "type": "histogram"
           }
          ],
          "histogram2d": [
           {
            "colorbar": {
             "outlinewidth": 0,
             "ticks": ""
            },
            "colorscale": [
             [
              0,
              "#0d0887"
             ],
             [
              0.1111111111111111,
              "#46039f"
             ],
             [
              0.2222222222222222,
              "#7201a8"
             ],
             [
              0.3333333333333333,
              "#9c179e"
             ],
             [
              0.4444444444444444,
              "#bd3786"
             ],
             [
              0.5555555555555556,
              "#d8576b"
             ],
             [
              0.6666666666666666,
              "#ed7953"
             ],
             [
              0.7777777777777778,
              "#fb9f3a"
             ],
             [
              0.8888888888888888,
              "#fdca26"
             ],
             [
              1,
              "#f0f921"
             ]
            ],
            "type": "histogram2d"
           }
          ],
          "histogram2dcontour": [
           {
            "colorbar": {
             "outlinewidth": 0,
             "ticks": ""
            },
            "colorscale": [
             [
              0,
              "#0d0887"
             ],
             [
              0.1111111111111111,
              "#46039f"
             ],
             [
              0.2222222222222222,
              "#7201a8"
             ],
             [
              0.3333333333333333,
              "#9c179e"
             ],
             [
              0.4444444444444444,
              "#bd3786"
             ],
             [
              0.5555555555555556,
              "#d8576b"
             ],
             [
              0.6666666666666666,
              "#ed7953"
             ],
             [
              0.7777777777777778,
              "#fb9f3a"
             ],
             [
              0.8888888888888888,
              "#fdca26"
             ],
             [
              1,
              "#f0f921"
             ]
            ],
            "type": "histogram2dcontour"
           }
          ],
          "mesh3d": [
           {
            "colorbar": {
             "outlinewidth": 0,
             "ticks": ""
            },
            "type": "mesh3d"
           }
          ],
          "parcoords": [
           {
            "line": {
             "colorbar": {
              "outlinewidth": 0,
              "ticks": ""
             }
            },
            "type": "parcoords"
           }
          ],
          "pie": [
           {
            "automargin": true,
            "type": "pie"
           }
          ],
          "scatter": [
           {
            "marker": {
             "line": {
              "color": "#283442"
             }
            },
            "type": "scatter"
           }
          ],
          "scatter3d": [
           {
            "line": {
             "colorbar": {
              "outlinewidth": 0,
              "ticks": ""
             }
            },
            "marker": {
             "colorbar": {
              "outlinewidth": 0,
              "ticks": ""
             }
            },
            "type": "scatter3d"
           }
          ],
          "scattercarpet": [
           {
            "marker": {
             "colorbar": {
              "outlinewidth": 0,
              "ticks": ""
             }
            },
            "type": "scattercarpet"
           }
          ],
          "scattergeo": [
           {
            "marker": {
             "colorbar": {
              "outlinewidth": 0,
              "ticks": ""
             }
            },
            "type": "scattergeo"
           }
          ],
          "scattergl": [
           {
            "marker": {
             "line": {
              "color": "#283442"
             }
            },
            "type": "scattergl"
           }
          ],
          "scattermapbox": [
           {
            "marker": {
             "colorbar": {
              "outlinewidth": 0,
              "ticks": ""
             }
            },
            "type": "scattermapbox"
           }
          ],
          "scatterpolar": [
           {
            "marker": {
             "colorbar": {
              "outlinewidth": 0,
              "ticks": ""
             }
            },
            "type": "scatterpolar"
           }
          ],
          "scatterpolargl": [
           {
            "marker": {
             "colorbar": {
              "outlinewidth": 0,
              "ticks": ""
             }
            },
            "type": "scatterpolargl"
           }
          ],
          "scatterternary": [
           {
            "marker": {
             "colorbar": {
              "outlinewidth": 0,
              "ticks": ""
             }
            },
            "type": "scatterternary"
           }
          ],
          "surface": [
           {
            "colorbar": {
             "outlinewidth": 0,
             "ticks": ""
            },
            "colorscale": [
             [
              0,
              "#0d0887"
             ],
             [
              0.1111111111111111,
              "#46039f"
             ],
             [
              0.2222222222222222,
              "#7201a8"
             ],
             [
              0.3333333333333333,
              "#9c179e"
             ],
             [
              0.4444444444444444,
              "#bd3786"
             ],
             [
              0.5555555555555556,
              "#d8576b"
             ],
             [
              0.6666666666666666,
              "#ed7953"
             ],
             [
              0.7777777777777778,
              "#fb9f3a"
             ],
             [
              0.8888888888888888,
              "#fdca26"
             ],
             [
              1,
              "#f0f921"
             ]
            ],
            "type": "surface"
           }
          ],
          "table": [
           {
            "cells": {
             "fill": {
              "color": "#506784"
             },
             "line": {
              "color": "rgb(17,17,17)"
             }
            },
            "header": {
             "fill": {
              "color": "#2a3f5f"
             },
             "line": {
              "color": "rgb(17,17,17)"
             }
            },
            "type": "table"
           }
          ]
         },
         "layout": {
          "annotationdefaults": {
           "arrowcolor": "#f2f5fa",
           "arrowhead": 0,
           "arrowwidth": 1
          },
          "autotypenumbers": "strict",
          "coloraxis": {
           "colorbar": {
            "outlinewidth": 0,
            "ticks": ""
           }
          },
          "colorscale": {
           "diverging": [
            [
             0,
             "#8e0152"
            ],
            [
             0.1,
             "#c51b7d"
            ],
            [
             0.2,
             "#de77ae"
            ],
            [
             0.3,
             "#f1b6da"
            ],
            [
             0.4,
             "#fde0ef"
            ],
            [
             0.5,
             "#f7f7f7"
            ],
            [
             0.6,
             "#e6f5d0"
            ],
            [
             0.7,
             "#b8e186"
            ],
            [
             0.8,
             "#7fbc41"
            ],
            [
             0.9,
             "#4d9221"
            ],
            [
             1,
             "#276419"
            ]
           ],
           "sequential": [
            [
             0,
             "#0d0887"
            ],
            [
             0.1111111111111111,
             "#46039f"
            ],
            [
             0.2222222222222222,
             "#7201a8"
            ],
            [
             0.3333333333333333,
             "#9c179e"
            ],
            [
             0.4444444444444444,
             "#bd3786"
            ],
            [
             0.5555555555555556,
             "#d8576b"
            ],
            [
             0.6666666666666666,
             "#ed7953"
            ],
            [
             0.7777777777777778,
             "#fb9f3a"
            ],
            [
             0.8888888888888888,
             "#fdca26"
            ],
            [
             1,
             "#f0f921"
            ]
           ],
           "sequentialminus": [
            [
             0,
             "#0d0887"
            ],
            [
             0.1111111111111111,
             "#46039f"
            ],
            [
             0.2222222222222222,
             "#7201a8"
            ],
            [
             0.3333333333333333,
             "#9c179e"
            ],
            [
             0.4444444444444444,
             "#bd3786"
            ],
            [
             0.5555555555555556,
             "#d8576b"
            ],
            [
             0.6666666666666666,
             "#ed7953"
            ],
            [
             0.7777777777777778,
             "#fb9f3a"
            ],
            [
             0.8888888888888888,
             "#fdca26"
            ],
            [
             1,
             "#f0f921"
            ]
           ]
          },
          "colorway": [
           "#636efa",
           "#EF553B",
           "#00cc96",
           "#ab63fa",
           "#FFA15A",
           "#19d3f3",
           "#FF6692",
           "#B6E880",
           "#FF97FF",
           "#FECB52"
          ],
          "font": {
           "color": "#f2f5fa"
          },
          "geo": {
           "bgcolor": "rgb(17,17,17)",
           "lakecolor": "rgb(17,17,17)",
           "landcolor": "rgb(17,17,17)",
           "showlakes": true,
           "showland": true,
           "subunitcolor": "#506784"
          },
          "hoverlabel": {
           "align": "left"
          },
          "hovermode": "closest",
          "mapbox": {
           "style": "dark"
          },
          "paper_bgcolor": "rgb(17,17,17)",
          "plot_bgcolor": "rgb(17,17,17)",
          "polar": {
           "angularaxis": {
            "gridcolor": "#506784",
            "linecolor": "#506784",
            "ticks": ""
           },
           "bgcolor": "rgb(17,17,17)",
           "radialaxis": {
            "gridcolor": "#506784",
            "linecolor": "#506784",
            "ticks": ""
           }
          },
          "scene": {
           "xaxis": {
            "backgroundcolor": "rgb(17,17,17)",
            "gridcolor": "#506784",
            "gridwidth": 2,
            "linecolor": "#506784",
            "showbackground": true,
            "ticks": "",
            "zerolinecolor": "#C8D4E3"
           },
           "yaxis": {
            "backgroundcolor": "rgb(17,17,17)",
            "gridcolor": "#506784",
            "gridwidth": 2,
            "linecolor": "#506784",
            "showbackground": true,
            "ticks": "",
            "zerolinecolor": "#C8D4E3"
           },
           "zaxis": {
            "backgroundcolor": "rgb(17,17,17)",
            "gridcolor": "#506784",
            "gridwidth": 2,
            "linecolor": "#506784",
            "showbackground": true,
            "ticks": "",
            "zerolinecolor": "#C8D4E3"
           }
          },
          "shapedefaults": {
           "line": {
            "color": "#f2f5fa"
           }
          },
          "sliderdefaults": {
           "bgcolor": "#C8D4E3",
           "bordercolor": "rgb(17,17,17)",
           "borderwidth": 1,
           "tickwidth": 0
          },
          "ternary": {
           "aaxis": {
            "gridcolor": "#506784",
            "linecolor": "#506784",
            "ticks": ""
           },
           "baxis": {
            "gridcolor": "#506784",
            "linecolor": "#506784",
            "ticks": ""
           },
           "bgcolor": "rgb(17,17,17)",
           "caxis": {
            "gridcolor": "#506784",
            "linecolor": "#506784",
            "ticks": ""
           }
          },
          "title": {
           "x": 0.05
          },
          "updatemenudefaults": {
           "bgcolor": "#506784",
           "borderwidth": 0
          },
          "xaxis": {
           "automargin": true,
           "gridcolor": "#283442",
           "linecolor": "#506784",
           "ticks": "",
           "title": {
            "standoff": 15
           },
           "zerolinecolor": "#283442",
           "zerolinewidth": 2
          },
          "yaxis": {
           "automargin": true,
           "gridcolor": "#283442",
           "linecolor": "#506784",
           "ticks": "",
           "title": {
            "standoff": 15
           },
           "zerolinecolor": "#283442",
           "zerolinewidth": 2
          }
         }
        },
        "title": {
         "text": "Simple Plotly Figure"
        },
        "xaxis": {
         "title": {
          "text": "X Axis"
         }
        },
        "yaxis": {
         "title": {
          "text": "Y Axis"
         }
        }
       }
      }
     },
     "metadata": {},
     "output_type": "display_data"
    }
   ],
   "source": [
    "import plotly.graph_objects as go\n",
    "\n",
    "# Create a simple line plot\n",
    "fig = go.Figure(data=[go.Scatter(x=[1, 2, 3, 4], y=[10, 11, 12, 13], mode='lines', name='Line Plot')])\n",
    "\n",
    "# Customize the layout\n",
    "fig.update_layout(\n",
    "    title='Simple Plotly Figure',\n",
    "    xaxis_title='X Axis',\n",
    "    yaxis_title='Y Axis',\n",
    "    template='plotly_dark'\n",
    ")\n",
    "\n",
    "# Display the figure\n",
    "fig.show()"
   ]
  },
  {
   "cell_type": "code",
   "execution_count": null,
   "id": "d1fa7f67",
   "metadata": {},
   "outputs": [],
   "source": []
  }
 ],
 "metadata": {
  "@webio": {
   "lastCommId": null,
   "lastKernelId": null
  },
  "kernelspec": {
   "display_name": "Python 3",
   "language": "python",
   "name": "python3"
  },
  "language_info": {
   "codemirror_mode": {
    "name": "ipython",
    "version": 3
   },
   "file_extension": ".py",
   "mimetype": "text/x-python",
   "name": "python",
   "nbconvert_exporter": "python",
   "pygments_lexer": "ipython3",
   "version": "3.11.9"
  },
  "sparkconnect": {
   "bundled_options": [
    "NXCALS",
    "SparkMetrics"
   ],
   "list_of_options": []
  }
 },
 "nbformat": 4,
 "nbformat_minor": 5
}
