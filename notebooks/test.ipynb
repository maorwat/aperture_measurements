{
 "cells": [
  {
   "cell_type": "code",
   "execution_count": 1,
   "metadata": {},
   "outputs": [
    {
     "data": {
      "application/vnd.jupyter.widget-view+json": {
       "model_id": "583ec3e6f42e4af0a4a03e6449e5dc40",
       "version_major": 2,
       "version_minor": 0
      },
      "text/plain": [
       "VBox(children=(Button(description='Button 1', style=ButtonStyle()), Button(description='Button 2', style=Butto…"
      ]
     },
     "metadata": {},
     "output_type": "display_data"
    }
   ],
   "source": [
    "import ipywidgets as widgets\n",
    "import plotly.graph_objects as go\n",
    "from IPython.display import display\n",
    "\n",
    "# Create buttons\n",
    "button1 = widgets.Button(description=\"Button 1\")\n",
    "button2 = widgets.Button(description=\"Button 2\")\n",
    "\n",
    "# Create a dummy FigureWidget\n",
    "fig = go.FigureWidget(\n",
    "    data=[go.Scatter(x=[1, 2, 3], y=[3, 1, 2], mode='lines+markers')],\n",
    "    layout=go.Layout(title=\"Dummy Figure Widget\")\n",
    ")\n",
    "\n",
    "# Create a VBox layout with buttons and figure\n",
    "box = widgets.VBox([button1, button2])\n",
    "\n",
    "# Display the VBox\n",
    "display(box)"
   ]
  },
  {
   "cell_type": "code",
   "execution_count": null,
   "metadata": {},
   "outputs": [],
   "source": []
  }
 ],
 "metadata": {
  "kernelspec": {
   "display_name": "base",
   "language": "python",
   "name": "python3"
  },
  "language_info": {
   "codemirror_mode": {
    "name": "ipython",
    "version": 3
   },
   "file_extension": ".py",
   "mimetype": "text/x-python",
   "name": "python",
   "nbconvert_exporter": "python",
   "pygments_lexer": "ipython3",
   "version": "3.10.14"
  }
 },
 "nbformat": 4,
 "nbformat_minor": 2
}
